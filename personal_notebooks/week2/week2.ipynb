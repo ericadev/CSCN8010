{
 "cells": [
  {
   "cell_type": "markdown",
   "id": "46092ced",
   "metadata": {},
   "source": [
    "# Week 2 Lab\n",
    "Erica Holden, 5490685\n",
    "\n",
    "## Requirements\n",
    "You must have pandas installed to run the code cells in this Jupyter Notebook."
   ]
  },
  {
   "cell_type": "code",
   "execution_count": 1,
   "id": "950b9f1c",
   "metadata": {},
   "outputs": [],
   "source": [
    "import pandas as pd"
   ]
  },
  {
   "cell_type": "code",
   "execution_count": 3,
   "id": "279b1ebc",
   "metadata": {},
   "outputs": [
    {
     "name": "stdout",
     "output_type": "stream",
     "text": [
      "  REF_DATE     GEO           DGUID               Trade Trade partners  \\\n",
      "0  2024-11  Canada  2016A000011124  Exports (receipts)  All countries   \n",
      "1  2024-12  Canada  2016A000011124  Exports (receipts)  All countries   \n",
      "2  2025-01  Canada  2016A000011124  Exports (receipts)  All countries   \n",
      "3  2025-02  Canada  2016A000011124  Exports (receipts)  All countries   \n",
      "4  2025-03  Canada  2016A000011124  Exports (receipts)  All countries   \n",
      "\n",
      "  Service categories     Seasonal adjustment       UOM  UOM_ID SCALAR_FACTOR  \\\n",
      "0     Total services  Not seasonally adjusted  Dollars      81      millions   \n",
      "1     Total services  Not seasonally adjusted  Dollars      81      millions   \n",
      "2     Total services  Not seasonally adjusted  Dollars      81      millions   \n",
      "3     Total services  Not seasonally adjusted  Dollars      81      millions   \n",
      "4     Total services  Not seasonally adjusted  Dollars      81      millions   \n",
      "\n",
      "   SCALAR_ID       VECTOR COORDINATE  VALUE  STATUS  SYMBOL  TERMINATED  \\\n",
      "0          6  v1105277794  1.1.1.1.1  17855     NaN     NaN         NaN   \n",
      "1          6  v1105277794  1.1.1.1.1  18472     NaN     NaN         NaN   \n",
      "2          6  v1105277794  1.1.1.1.1  17643     NaN     NaN         NaN   \n",
      "3          6  v1105277794  1.1.1.1.1  17463     NaN     NaN         NaN   \n",
      "4          6  v1105277794  1.1.1.1.1  17727     NaN     NaN         NaN   \n",
      "\n",
      "   DECIMALS  \n",
      "0         0  \n",
      "1         0  \n",
      "2         0  \n",
      "3         0  \n",
      "4         0  \n"
     ]
    }
   ],
   "source": [
    "df = pd.read_csv('statcandata.csv')\n",
    "print(df.head())"
   ]
  }
 ],
 "metadata": {
  "kernelspec": {
   "display_name": ".venv",
   "language": "python",
   "name": "python3"
  },
  "language_info": {
   "codemirror_mode": {
    "name": "ipython",
    "version": 3
   },
   "file_extension": ".py",
   "mimetype": "text/x-python",
   "name": "python",
   "nbconvert_exporter": "python",
   "pygments_lexer": "ipython3",
   "version": "3.12.7"
  }
 },
 "nbformat": 4,
 "nbformat_minor": 5
}
