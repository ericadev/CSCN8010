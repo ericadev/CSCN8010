{
 "cells": [
  {
   "cell_type": "markdown",
   "id": "29e47f28",
   "metadata": {},
   "source": [
    "### 💡 Additional Reading Material\n",
    "\n",
    "For a deeper, visual intuition of how neural networks function and learn, the following guide is an excellent resource.\n",
    "[**Neural Networks by 3Blue1Brown**](https://www.3blue1brown.com/lessons/neural-networks)\n",
    "\n",
    "These other tutorials come from the Course Notebooks Repository:\n",
    "\n",
    "> In-depth: \n",
    "[**Introduction to Tensors in PyTorch**](https://github.com/CSCN8010/CSCN8010/blob/main/dl_class_notebooks/01A_intro_to_tensors_pytorch.ipynb)\n",
    "\n",
    "> In-depth: \n",
    "[**Introduction to Tensors in TernsorFlow**](https://github.com/CSCN8010/CSCN8010/blob/main/dl_class_notebooks/01B_intro_to_tensors_tensorflow.ipynb)  \n",
    "\n",
    "<br/>\n",
    "<br/>\n",
    "\n",
    "***\n"
   ]
  },
  {
   "cell_type": "markdown",
   "id": "79a3fb92",
   "metadata": {},
   "source": [
    "# 🧠 Multi-Layered Perceptrons (MLPs)\n",
    "\n",
    "---\n",
    "\n",
    "## 🔍 Part 1: What is a Perceptron?\n",
    "\n",
    "- A perceptron is the simplest kind of neural network: a single neuron with:\n",
    "  - Inputs: $x_1, x_2, ..., x_n$\n",
    "  - Weights: $w_1, w_2, ..., w_n$\n",
    "  - Bias: $b$\n",
    "  - Activation: $\\hat{y} = \\text{activation}(\\sum x_i w_i + b)$\n",
    "\n",
    "$$\n",
    "\\hat{y} = \\text{activation}(x \\cdot w + b)\n",
    "$$\n"
   ]
  },
  {
   "cell_type": "code",
   "execution_count": null,
   "id": "0c406be6",
   "metadata": {},
   "outputs": [
    {
     "name": "stdout",
     "output_type": "stream",
     "text": [
      "Output: 0.5028297305107117\n"
     ]
    }
   ],
   "source": [
    "# Import the neural network module from PyTorch, which contains the building \n",
    "# blocks for models, such as layers and activation functions\n",
    "import torch\n",
    "import torch.nn as nn\n",
    "\n",
    "# Single Perceptron with 2 inputs\n",
    "# Define a simple neural network model using PyTorch's Sequential API\n",
    "# This model consists of a single linear layer followed by a sigmoid activation function\n",
    "model = nn.Sequential(\n",
    "\n",
    "    # Linear layer with 2 input features and 1 output feature\n",
    "    # It performs a linear transformation on the input data.\n",
    "    # Internally, this layer contains two weights (one for each input) and one bias, which are\n",
    "    # initialized with random values by PyTorch when the model is created\n",
    "    nn.Linear(2, 1),\n",
    "\n",
    "    # This is the second layer, an activation function. It takes the single value from the nn.Linear layer \n",
    "    # and applies the sigmoid formula to it, squashing the result to a value between 0 and 1.\n",
    "    nn.Sigmoid()\n",
    ")\n",
    "\n",
    "# Sample input\n",
    "# Create a tensor with two features (inputs) to pass through the model\n",
    "# This tensor represents a single data point with two features, which is the expected input shape for\n",
    "# the model defined above\n",
    "x = torch.tensor([[1.0, 2.0]])\n",
    "\n",
    "# This performs the \"feedforward\" pass, where the input x is sent through the linear layer and then \n",
    "# the sigmoid layer to produce the final output.\n",
    "output = model(x)\n",
    "\n",
    "# This extracts the single numerical value from the output tensor and prints it as a standard Python number.\n",
    "print(\"Output:\", output.item())\n"
   ]
  },
  {
   "cell_type": "markdown",
   "id": "f4cfad56",
   "metadata": {},
   "source": [
    "### Mathematical Explanation for the output (assuming = 0.5028297305107117)\n",
    "\n",
    "The calculation happens in two steps, corresponding to the two layers in `nn.Sequential`.\n",
    "\n",
    "#### Step 1: The Linear Layer\n",
    "The `nn.Linear` layer calculates the weighted sum of the inputs plus a bias. The general formula is:\n",
    "\n",
    "$$z = (x_1 \\cdot w_1) + (x_2 \\cdot w_2) + b$$\n",
    "\n",
    "Where:\n",
    "* $x_1, x_2$ are the inputs (`1.0` and `2.0`).\n",
    "* $w_1, w_2$ are the weights for each input, initialized randomly by PyTorch.\n",
    "* $b$ is the bias, also initialized randomly.\n",
    "\n",
    "#### Step 2: The Sigmoid Activation Layer\n",
    "The result of the linear layer, $z$, is then passed to the sigmoid function, which calculates the final output:\n",
    "\n",
    "$$\\text{Output} = \\sigma(z) = \\frac{1}{1 + e^{-z}}$$\n",
    "\n",
    "#### Reproducing Your Specific Output\n",
    "Since the weights ($w_1, w_2$) and bias ($b$) are initialized randomly, the output will be different each time the script is run. To get your **exact output** of `0.50282973`, the randomly generated weights and bias must have produced an intermediate value $z$ that satisfies the sigmoid equation.\n",
    "\n",
    "We can work backward from your output to find what $z$ must have been:\n",
    "\n",
    "1.  **Inverse Sigmoid**: The inverse of the sigmoid function is the logit function.\n",
    "    $$z = \\sigma^{-1}(\\text{Output}) = \\ln\\left(\\frac{\\text{Output}}{1 - \\text{Output}}\\right)$$\n",
    "2.  **Calculation**:\n",
    "    $$z = \\ln\\left(\\frac{0.50282973}{1 - 0.50282973}\\right) = \\ln(1.01138) \\approx 0.011318$$\n",
    "\n",
    "So, the linear layer's random weights and bias must have resulted in this equation:\n",
    "$$(1.0 \\cdot w_1) + (2.0 \\cdot w_2) + b = 0.011318$$\n",
    "\n",
    "For example, a plausible set of random values PyTorch might have generated to get this result is $w_1=0.35$, $w_2=-0.2$, and $b=0.061318$.\n",
    "\n",
    "* **Linear Calculation**: $z = (1.0 \\cdot 0.35) + (2.0 \\cdot -0.2) + 0.061318 = 0.35 - 0.40 + 0.061318 = \\mathbf{0.011318}$\n",
    "* **Sigmoid Calculation**: $\\text{Output} = \\frac{1}{1 + e^{-0.011318}} \\approx \\mathbf{0.50282973}$"
   ]
  },
  {
   "cell_type": "markdown",
   "id": "14b3667b",
   "metadata": {},
   "source": [
    "---\n",
    "\n",
    "## 🧠 Part 2: What is an MLP?\n",
    "\n",
    "- MLP = Multi-Layer Perceptron = Neural Network with:\n",
    "  - Input layer\n",
    "  - One or more Hidden Layers\n",
    "  - Output Layer\n",
    "- Each layer contains **neurons**, each performing:\n",
    "  - Weighted sum\n",
    "  - Activation function\n",
    "\n",
    "🧩 Why Use MLPs?\n",
    "- MLPs can learn **non-linear** boundaries\n",
    "- The more hidden layers, the **deeper** the network (but beware of overfitting)\n"
   ]
  },
  {
   "cell_type": "code",
   "execution_count": 3,
   "id": "2fa86925",
   "metadata": {},
   "outputs": [
    {
     "name": "stderr",
     "output_type": "stream",
     "text": [
      "c:\\StudentWork\\Code\\CSCN8010\\MultiLayerPerceptrons\\.venv\\Lib\\site-packages\\keras\\src\\layers\\core\\dense.py:93: UserWarning: Do not pass an `input_shape`/`input_dim` argument to a layer. When using Sequential models, prefer using an `Input(shape)` object as the first layer in the model instead.\n",
      "  super().__init__(activity_regularizer=activity_regularizer, **kwargs)\n"
     ]
    },
    {
     "data": {
      "text/html": [
       "<pre style=\"white-space:pre;overflow-x:auto;line-height:normal;font-family:Menlo,'DejaVu Sans Mono',consolas,'Courier New',monospace\"><span style=\"font-weight: bold\">Model: \"sequential_1\"</span>\n",
       "</pre>\n"
      ],
      "text/plain": [
       "\u001b[1mModel: \"sequential_1\"\u001b[0m\n"
      ]
     },
     "metadata": {},
     "output_type": "display_data"
    },
    {
     "data": {
      "text/html": [
       "<pre style=\"white-space:pre;overflow-x:auto;line-height:normal;font-family:Menlo,'DejaVu Sans Mono',consolas,'Courier New',monospace\">┏━━━━━━━━━━━━━━━━━━━━━━━━━━━━━━━━━┳━━━━━━━━━━━━━━━━━━━━━━━━┳━━━━━━━━━━━━━━━┓\n",
       "┃<span style=\"font-weight: bold\"> Layer (type)                    </span>┃<span style=\"font-weight: bold\"> Output Shape           </span>┃<span style=\"font-weight: bold\">       Param # </span>┃\n",
       "┡━━━━━━━━━━━━━━━━━━━━━━━━━━━━━━━━━╇━━━━━━━━━━━━━━━━━━━━━━━━╇━━━━━━━━━━━━━━━┩\n",
       "│ dense_2 (<span style=\"color: #0087ff; text-decoration-color: #0087ff\">Dense</span>)                 │ (<span style=\"color: #00d7ff; text-decoration-color: #00d7ff\">None</span>, <span style=\"color: #00af00; text-decoration-color: #00af00\">8</span>)              │            <span style=\"color: #00af00; text-decoration-color: #00af00\">24</span> │\n",
       "├─────────────────────────────────┼────────────────────────┼───────────────┤\n",
       "│ dense_3 (<span style=\"color: #0087ff; text-decoration-color: #0087ff\">Dense</span>)                 │ (<span style=\"color: #00d7ff; text-decoration-color: #00d7ff\">None</span>, <span style=\"color: #00af00; text-decoration-color: #00af00\">1</span>)              │             <span style=\"color: #00af00; text-decoration-color: #00af00\">9</span> │\n",
       "└─────────────────────────────────┴────────────────────────┴───────────────┘\n",
       "</pre>\n"
      ],
      "text/plain": [
       "┏━━━━━━━━━━━━━━━━━━━━━━━━━━━━━━━━━┳━━━━━━━━━━━━━━━━━━━━━━━━┳━━━━━━━━━━━━━━━┓\n",
       "┃\u001b[1m \u001b[0m\u001b[1mLayer (type)                   \u001b[0m\u001b[1m \u001b[0m┃\u001b[1m \u001b[0m\u001b[1mOutput Shape          \u001b[0m\u001b[1m \u001b[0m┃\u001b[1m \u001b[0m\u001b[1m      Param #\u001b[0m\u001b[1m \u001b[0m┃\n",
       "┡━━━━━━━━━━━━━━━━━━━━━━━━━━━━━━━━━╇━━━━━━━━━━━━━━━━━━━━━━━━╇━━━━━━━━━━━━━━━┩\n",
       "│ dense_2 (\u001b[38;5;33mDense\u001b[0m)                 │ (\u001b[38;5;45mNone\u001b[0m, \u001b[38;5;34m8\u001b[0m)              │            \u001b[38;5;34m24\u001b[0m │\n",
       "├─────────────────────────────────┼────────────────────────┼───────────────┤\n",
       "│ dense_3 (\u001b[38;5;33mDense\u001b[0m)                 │ (\u001b[38;5;45mNone\u001b[0m, \u001b[38;5;34m1\u001b[0m)              │             \u001b[38;5;34m9\u001b[0m │\n",
       "└─────────────────────────────────┴────────────────────────┴───────────────┘\n"
      ]
     },
     "metadata": {},
     "output_type": "display_data"
    },
    {
     "data": {
      "text/html": [
       "<pre style=\"white-space:pre;overflow-x:auto;line-height:normal;font-family:Menlo,'DejaVu Sans Mono',consolas,'Courier New',monospace\"><span style=\"font-weight: bold\"> Total params: </span><span style=\"color: #00af00; text-decoration-color: #00af00\">33</span> (132.00 B)\n",
       "</pre>\n"
      ],
      "text/plain": [
       "\u001b[1m Total params: \u001b[0m\u001b[38;5;34m33\u001b[0m (132.00 B)\n"
      ]
     },
     "metadata": {},
     "output_type": "display_data"
    },
    {
     "data": {
      "text/html": [
       "<pre style=\"white-space:pre;overflow-x:auto;line-height:normal;font-family:Menlo,'DejaVu Sans Mono',consolas,'Courier New',monospace\"><span style=\"font-weight: bold\"> Trainable params: </span><span style=\"color: #00af00; text-decoration-color: #00af00\">33</span> (132.00 B)\n",
       "</pre>\n"
      ],
      "text/plain": [
       "\u001b[1m Trainable params: \u001b[0m\u001b[38;5;34m33\u001b[0m (132.00 B)\n"
      ]
     },
     "metadata": {},
     "output_type": "display_data"
    },
    {
     "data": {
      "text/html": [
       "<pre style=\"white-space:pre;overflow-x:auto;line-height:normal;font-family:Menlo,'DejaVu Sans Mono',consolas,'Courier New',monospace\"><span style=\"font-weight: bold\"> Non-trainable params: </span><span style=\"color: #00af00; text-decoration-color: #00af00\">0</span> (0.00 B)\n",
       "</pre>\n"
      ],
      "text/plain": [
       "\u001b[1m Non-trainable params: \u001b[0m\u001b[38;5;34m0\u001b[0m (0.00 B)\n"
      ]
     },
     "metadata": {},
     "output_type": "display_data"
    }
   ],
   "source": [
    "# This code uses the Keras library from TensorFlow to build, define, and compile a simple two-layer neural network \n",
    "# designed for a binary classification task.\n",
    "from tensorflow.keras.models import Sequential\n",
    "from tensorflow.keras.layers import Dense\n",
    "\n",
    "# This initializes an empty model to which layers will be added.\n",
    "model = Sequential()\n",
    "\n",
    "# This adds a dense (fully connected) layer with 8 neurons, using the ReLU activation function.\n",
    "# The input dimension is set to 2, meaning the model expects input data with two features.\n",
    "# Dense: This is a standard, fully-connected neural network layer.\n",
    "# 8: Specifies that this layer has 8 neurons (or units)\n",
    "# input_dim=2: This indicates that the input to this layer will have 2 features.\n",
    "# activation='relu': This specifies that the ReLU (Rectified Linear Unit) activation function\n",
    "model.add(Dense(8, input_dim=2, activation='relu'))  # hidden layer\n",
    "\n",
    "# This adds the second and final layer, which is the output layer.\n",
    "# 1: This layer has a single neuron\n",
    "# activation='sigmoid': This specifies that the sigmoid activation function will be used, \n",
    "# which is common for binary classification tasks.\n",
    "model.add(Dense(1, activation='sigmoid'))            # output layer\n",
    "\n",
    "#  configures the model's learning process before training begins.\n",
    "# optimizer='adam': This sets the optimizer, the algorithm used to update the network's weights \n",
    "# based on the training data. Adam is a popular and effective general-purpose optimizer.\n",
    "# loss='binary_crossentropy': This sets the loss function, which measures the error between \n",
    "# the model's predictions and the true labels. binary_crossentropy is the standard loss function \n",
    "# for binary classification tasks.\n",
    "# metrics=['accuracy']: This specifies the metric to be monitored during training. accuracy will \n",
    "# calculate the percentage of predictions that were correct.\n",
    "model.compile(optimizer='adam', loss='binary_crossentropy', metrics=['accuracy'])\n",
    "\n",
    "# prints a concise summary of the network, including:\n",
    "# The layers and their order.\n",
    "# The output shape of each layer.\n",
    "# The number of trainable parameters (weights and biases) in each layer and in total.\n",
    "model.summary()\n"
   ]
  },
  {
   "cell_type": "markdown",
   "id": "9b5b1331",
   "metadata": {},
   "source": [
    "This output provides a layer-by-layer summary of the model's architecture and the number of parameters it contains. Here's a breakdown of what each part means.\n",
    "\n",
    "***\n",
    "### Output Shape\n",
    "The output shape column shows the dimensionality of the data after it passes through a layer.\n",
    "\n",
    "* **`(None, 8)`**: For the first `Dense` layer.\n",
    "    * The **`None`** is a placeholder for the **batch size**. It means the model can accept a variable number of input samples (e.g., 16, 32, 64) at a time.\n",
    "    * The **`8`** means that for each input sample, this layer produces an output vector of size 8, corresponding to the **8 neurons** in the layer.\n",
    "* **`(None, 1)`**: For the second `Dense` layer.\n",
    "    * The **`None`** is again the batch size.\n",
    "    * The **`1`** means the layer outputs a single value for each input sample, corresponding to the **1 neuron** in the output layer.\n",
    "\n",
    "***\n",
    "### Parameter Calculation (Param #)\n",
    "Parameters are the internal variables of the model that are learned during training; they consist of **weights** and **biases**. The formula for a `Dense` layer is:\n",
    "\n",
    "$$\\text{Parameters} = (\\text{input\\_features} \\times \\text{neurons}) + \\text{neurons}$$\n",
    "\n",
    "* **`dense_2` (24 params)**:\n",
    "    * This layer takes an input with **2 features** (`input_dim=2`) and has **8 neurons**.\n",
    "    * **Weights**: $2 \\text{ inputs} \\times 8 \\text{ neurons} = 16 \\text{ weights}$\n",
    "    * **Biases**: Each of the 8 neurons has 1 bias term, so there are $8 \\text{ biases}$.\n",
    "    * **Total**: $16 + 8 = 24$ parameters.\n",
    "\n",
    "* **`dense_3` (9 params)**:\n",
    "    * This layer's input is the output of the previous layer, which had **8 neurons**, so it takes **8 features**. This layer has **1 neuron**.\n",
    "    * **Weights**: $8 \\text{ inputs} \\times 1 \\text{ neuron} = 8 \\text{ weights}$\n",
    "    * **Biases**: The single neuron has 1 bias term, so there is $1 \\text{ bias}$.\n",
    "    * **Total**: $8 + 1 = 9$ parameters.\n",
    "\n",
    "***\n",
    "### Total, Trainable & Non-trainable Params\n",
    "\n",
    "* **Total params (33)**: This is the sum of the parameters from all layers in the model.\n",
    "    $$24 \\text{ (from dense\\_2)} + 9 \\text{ (from dense\\_3)} = 33$$\n",
    "* **Trainable params (33)**: These are the parameters that the optimizer will adjust during training to minimize the loss function. By default, all parameters in a `Dense` layer are trainable.\n",
    "* **Non-trainable params (0)**: These are parameters that are \"frozen\" and are not updated during training. This is often used in more advanced techniques like transfer learning. Since all layers in this model are set to be trainable by default, this count is 0."
   ]
  },
  {
   "cell_type": "markdown",
   "id": "0dc7d8bb",
   "metadata": {},
   "source": [
    "---\n",
    "\n",
    "## 🧠 Part 3: Activation Functions Explained\n",
    "\n",
    "| Function | Formula | Range | Use Case |\n",
    "|----------|---------|-------|----------|\n",
    "| **Sigmoid** | $\\sigma(x) = \\frac{1}{1+e^{-x}}$ | (0, 1) | Binary classification |\n",
    "| **ReLU** | $f(x) = \\max(0, x)$ | [0, ∞) | Most common hidden layer |\n",
    "| **Tanh** | $\\tanh(x) = \\frac{e^x - e^{-x}}{e^x + e^{-x}}$ | (−1, 1) | When negative outputs help |\n",
    "\n",
    "🧠 Tip: Use **ReLU** in hidden layers and **Sigmoid/Softmax** in output.\n"
   ]
  },
  {
   "cell_type": "code",
   "execution_count": 4,
   "id": "2fc2f152",
   "metadata": {},
   "outputs": [
    {
     "data": {
      "image/png": "[encoded data removed]",
      "text/plain": [
       "<Figure size 640x480 with 1 Axes>"
      ]
     },
     "metadata": {},
     "output_type": "display_data"
    }
   ],
   "source": [
    "import numpy as np\n",
    "import matplotlib.pyplot as plt\n",
    "\n",
    "x = np.linspace(-10, 10, 100)\n",
    "sigmoid = 1 / (1 + np.exp(-x))\n",
    "relu = np.maximum(0, x)\n",
    "tanh = np.tanh(x)\n",
    "\n",
    "plt.plot(x, sigmoid, label='Sigmoid')\n",
    "plt.plot(x, relu, label='ReLU')\n",
    "plt.plot(x, tanh, label='Tanh')\n",
    "plt.legend(); plt.title(\"Activation Functions\"); plt.grid(True)\n",
    "plt.show()\n"
   ]
  },
  {
   "cell_type": "markdown",
   "id": "1aefa1a0",
   "metadata": {},
   "source": [
    "---\n",
    "\n",
    "## 🧠 Part 4: How Feedforward Works\n",
    "\n",
    "1. Start with input vector $X$\n",
    "2. Compute weighted sum: $z = XW + b$\n",
    "3. Apply activation function to get output: $a = f(z)$\n",
    "4. Pass output to next layer (if any)\n",
    "5. Final output is prediction\n"
   ]
  },
  {
   "cell_type": "markdown",
   "id": "133cef9b",
   "metadata": {},
   "source": [
    "---\n",
    "\n",
    "## 🧠 Part 5: Backpropagation in Detail\n",
    "\n",
    "1. **Forward pass**: Compute prediction $\\hat{y}$\n",
    "2. **Compute error**: $\\text{loss} = y - \\hat{y}$\n",
    "3. **Backpropagate error**: Chain rule to compute gradient\n",
    "4. **Update weights**:\n",
    "\n",
    "$$\n",
    "w \\leftarrow w - \\eta \\cdot \\frac{\\partial \\text{loss}}{\\partial w}\n",
    "$$\n",
    "\n",
    "⚠️ Too high: overshooting  \n",
    "⚠️ Too low: slow convergence\n"
   ]
  },
  {
   "cell_type": "markdown",
   "id": "ab5fb24c",
   "metadata": {},
   "source": [
    "The code below implements the complete training process for a simple Multi-Layered Perceptron (MLP) using the backpropagation algorithm using PyTorch.\n",
    "\n",
    "The two key imports are:\n",
    "\n",
    "`from torch.optim import SGD` imports the **Stochastic Gradient Descent (SGD)** optimizer from PyTorch's optimization module, `torch.optim`. \n",
    "> We will explore it in more detail after the code run below.\n",
    "\n",
    "`torch.nn.functional` is a PyTorch module that provides a wide range of functions used for building neural network models, such as activation functions, loss functions, and other operations like pooling and normalization.\n",
    "\n",
    "Typically imported with the alias `F`, these are **stateless** functions, meaning they don't hold any learnable parameters like weights or biases.\n",
    "\n",
    "-----\n",
    "\n",
    "#### Key Distinction: Layers vs. Functions\n",
    "\n",
    "The primary difference in PyTorch is between stateful layers (`torch.nn.Module`) and stateless functions (`torch.nn.functional`).\n",
    "\n",
    "  * **`torch.nn` (Module-based layers)**: These are Python classes that hold **state**, most importantly, the **learnable parameters** (weights and biases). You define them in your model's `__init__` method.\n",
    "\n",
    "      * **Examples**: `nn.Linear`, `nn.Conv2d`, `nn.BatchNorm2d`.\n",
    "\n",
    "  * **`torch.nn.functional` (Functional API)**: These are simple functions that perform operations but have no learnable parameters of their own. You typically call them directly inside the `forward` method.\n",
    "\n",
    "      * **Examples**: `F.relu`, `F.sigmoid`, `F.max_pool2d`, `F.binary_cross_entropy`.\n",
    "\n",
    "#### When to Use Which\n",
    "\n",
    "The choice often comes down to whether the operation needs to store parameters.\n",
    "\n",
    "  * **Use `nn.Module` layers** for any operation with learnable weights, like linear transformations, convolutions, or batch normalization.\n",
    "  * **Use `nn.functional`** for operations that don't have learnable weights, like activation functions (ReLU, sigmoid), pooling, or dropout. This is often a stylistic choice, as PyTorch also provides module-based versions (e.g., `nn.ReLU()`).\n"
   ]
  },
  {
   "cell_type": "code",
   "execution_count": null,
   "id": "8fa35a2a",
   "metadata": {},
   "outputs": [
    {
     "name": "stdout",
     "output_type": "stream",
     "text": [
      "Trained Output:\n",
      " tensor([[0.0297],\n",
      "        [0.9958],\n",
      "        [0.9958],\n",
      "        [0.0027]])\n"
     ]
    }
   ],
   "source": [
    "# This code defines a simple Multi-Layered Perceptron (MLP) using PyTorch,\n",
    "# which consists of two fully connected layers with a ReLU activation function in between.\n",
    "\n",
    "import torch.nn.functional as F\n",
    "from torch.optim import SGD\n",
    "\n",
    "class SimpleMLP(nn.Module):\n",
    "    def __init__(self):\n",
    "        super().__init__()\n",
    "\n",
    "        # Define the first fully connected layer with 2 input features and 8 output features\n",
    "        self.fc1 = nn.Linear(2, 8)\n",
    "        # Define the second fully connected layer with 8 input features and 1 output feature\n",
    "        self.fc2 = nn.Linear(8, 1)\n",
    "\n",
    "    # The forward method defines the forward pass of the network\n",
    "    # It takes an input tensor x, applies the first layer followed by ReLU activation,\n",
    "    def forward(self, x):\n",
    "        x = F.relu(self.fc1(x))\n",
    "        # Then applies the second layer followed by a sigmoid activation function\n",
    "        # The sigmoid function squashes the output to a range between 0 and 1,\n",
    "        return torch.sigmoid(self.fc2(x))\n",
    "\n",
    "# Dummy dataset (XOR-like)\n",
    "X = torch.tensor([[0.,0.],[0.,1.],[1.,0.],[1.,1.]])\n",
    "y = torch.tensor([[0.],[1.],[1.],[0.]])\n",
    "\n",
    "model = SimpleMLP()\n",
    "optimizer = SGD(model.parameters(), lr=0.1)\n",
    "\n",
    "# Training loop\n",
    "for epoch in range(2000):\n",
    "    y_pred = model(X)\n",
    "    loss = F.binary_cross_entropy(y_pred, y)\n",
    "    optimizer.zero_grad()\n",
    "    loss.backward()\n",
    "    optimizer.step()\n",
    "\n",
    "print(\"Trained Output:\\n\", model(X).detach())\n"
   ]
  },
  {
   "cell_type": "markdown",
   "id": "9b8e0d79",
   "metadata": {},
   "source": [
    "This output shows your model's final predictions for each of the four data points in your input tensor `X` after the training process is complete. Since the model's final layer is a `sigmoid` function, each output value is a probability between 0 and 1.\n",
    "\n",
    "The model has successfully learned the non-linear XOR pattern from the data.\n",
    "\n",
    "---\n",
    "#### Output Breakdown\n",
    "\n",
    "Here's a comparison of the model's predictions to the target labels (`y`):\n",
    "\n",
    "* **Input `[0,0]`** → **Prediction ($\\hat{y}$) = `0.0297`**\n",
    "    * The target ($y$) was `0`. The model's output is very close to 0, indicating a correct prediction.\n",
    "\n",
    "* **Input `[0,1]`** → **Prediction ($\\hat{y}$) = `0.9958`**\n",
    "    * The target ($y$) was `1`. The model's output is very close to 1, indicating a correct prediction.\n",
    "\n",
    "* **Input `[1,0]`** → **Prediction ($\\hat{y}$) = `0.9958`**\n",
    "    * The target ($y$) was `1`. The model's output is also very close to 1, a correct prediction.\n",
    "\n",
    "* **Input `[1,1]`** → **Prediction ($\\hat{y}$) = `0.0027`**\n",
    "    * The target ($y$) was `0`. The model's output is very close to 0, indicating another correct prediction.\n",
    "\n",
    "In essence, the 2,000 training loops successfully adjusted the model's weights and biases so that it can now accurately distinguish between the different input patterns and produce the correct output."
   ]
  },
  {
   "cell_type": "markdown",
   "id": "155cdf90",
   "metadata": {},
   "source": [
    "#### What is an Optimizer?\n",
    "\n",
    "In neural networks, an **optimizer** is an algorithm that adjusts the model's internal parameters (its weights and biases) to minimize the error, or **loss**. It's the engine that drives the learning process.\n",
    "\n",
    "#### What is SGD?\n",
    "\n",
    "**Stochastic Gradient Descent** is one of the most fundamental optimization algorithms. Here’s what the name means:\n",
    "\n",
    "  * **Gradient Descent**: Imagine the model's loss as a hilly landscape. The goal is to find the lowest point (minimum loss). Gradient descent does this by calculating the slope (gradient) at the model's current position and taking a step downhill. It repeats this process until it settles at the bottom of a valley. ⛰️\n",
    "  * **Stochastic**: Instead of using the entire dataset to calculate the slope for each step (which would be very slow), SGD uses a small, random subset of the data called a **mini-batch**. This makes the training process much faster and can help the model avoid getting stuck in poor solutions.\n",
    "\n",
    "#### How It's Used in Code\n",
    "\n",
    "You first instantiate the `SGD` optimizer, telling it which model parameters to update and setting the **learning rate (`lr`)**, which controls the size of each \"step\" it takes.\n",
    "\n",
    "```python\n",
    "# SGD needs the model's parameters to know what to update\n",
    "# 'lr' is the learning rate, a critical hyperparameter\n",
    "optimizer = SGD(model.parameters(), lr=0.01)\n",
    "\n",
    "# Inside the training loop...\n",
    "# After calculating gradients with loss.backward()...\n",
    "optimizer.step() # This line updates the model's weights and biases\n",
    "```\n",
    "\n",
    "In short, `from torch.optim import SGD` gives you a powerful tool to actually train your neural network."
   ]
  },
  {
   "cell_type": "markdown",
   "id": "8c529622",
   "metadata": {},
   "source": [
    "---\n",
    "\n",
    "## 🧠 Part 6: Hyperparameters in MLPs\n",
    "\n",
    "| Hyperparameter | Description |\n",
    "|----------------|-------------|\n",
    "| Learning Rate  | Step size for weight update |\n",
    "| Epochs         | Full dataset passes |\n",
    "| Batch Size     | Subset used per gradient update |\n",
    "| Optimizer      | Algorithm to minimize error (e.g., SGD, Adam) |\n",
    "| Loss Function  | Measures how far prediction is from truth |\n"
   ]
  },
  {
   "cell_type": "code",
   "execution_count": 6,
   "id": "7fc8bb71",
   "metadata": {},
   "outputs": [
    {
     "name": "stdout",
     "output_type": "stream",
     "text": [
      "Epoch 1/20\n",
      "\u001b[1m25/25\u001b[0m \u001b[32m━━━━━━━━━━━━━━━━━━━━\u001b[0m\u001b[37m\u001b[0m \u001b[1m1s\u001b[0m 2ms/step - accuracy: 0.4572 - loss: 0.7586   \n",
      "Epoch 2/20\n",
      "\u001b[1m25/25\u001b[0m \u001b[32m━━━━━━━━━━━━━━━━━━━━\u001b[0m\u001b[37m\u001b[0m \u001b[1m0s\u001b[0m 2ms/step - accuracy: 0.4973 - loss: 0.6941 \n",
      "Epoch 3/20\n",
      "\u001b[1m25/25\u001b[0m \u001b[32m━━━━━━━━━━━━━━━━━━━━\u001b[0m\u001b[37m\u001b[0m \u001b[1m0s\u001b[0m 1ms/step - accuracy: 0.7050 - loss: 0.6284 \n",
      "Epoch 4/20\n",
      "\u001b[1m25/25\u001b[0m \u001b[32m━━━━━━━━━━━━━━━━━━━━\u001b[0m\u001b[37m\u001b[0m \u001b[1m0s\u001b[0m 885us/step - accuracy: 0.8382 - loss: 0.5710\n",
      "Epoch 5/20\n",
      "\u001b[1m25/25\u001b[0m \u001b[32m━━━━━━━━━━━━━━━━━━━━\u001b[0m\u001b[37m\u001b[0m \u001b[1m0s\u001b[0m 751us/step - accuracy: 0.8631 - loss: 0.5081\n",
      "Epoch 6/20\n",
      "\u001b[1m25/25\u001b[0m \u001b[32m━━━━━━━━━━━━━━━━━━━━\u001b[0m\u001b[37m\u001b[0m \u001b[1m0s\u001b[0m 833us/step - accuracy: 0.8756 - loss: 0.4492\n",
      "Epoch 7/20\n",
      "\u001b[1m25/25\u001b[0m \u001b[32m━━━━━━━━━━━━━━━━━━━━\u001b[0m\u001b[37m\u001b[0m \u001b[1m0s\u001b[0m 1ms/step - accuracy: 0.8669 - loss: 0.4151 \n",
      "Epoch 8/20\n",
      "\u001b[1m25/25\u001b[0m \u001b[32m━━━━━━━━━━━━━━━━━━━━\u001b[0m\u001b[37m\u001b[0m \u001b[1m0s\u001b[0m 2ms/step - accuracy: 0.8634 - loss: 0.3900 \n",
      "Epoch 9/20\n",
      "\u001b[1m25/25\u001b[0m \u001b[32m━━━━━━━━━━━━━━━━━━━━\u001b[0m\u001b[37m\u001b[0m \u001b[1m0s\u001b[0m 2ms/step - accuracy: 0.8743 - loss: 0.3494 \n",
      "Epoch 10/20\n",
      "\u001b[1m25/25\u001b[0m \u001b[32m━━━━━━━━━━━━━━━━━━━━\u001b[0m\u001b[37m\u001b[0m \u001b[1m0s\u001b[0m 2ms/step - accuracy: 0.8741 - loss: 0.3415 \n",
      "Epoch 11/20\n",
      "\u001b[1m25/25\u001b[0m \u001b[32m━━━━━━━━━━━━━━━━━━━━\u001b[0m\u001b[37m\u001b[0m \u001b[1m0s\u001b[0m 1ms/step - accuracy: 0.8636 - loss: 0.3318 \n",
      "Epoch 12/20\n",
      "\u001b[1m25/25\u001b[0m \u001b[32m━━━━━━━━━━━━━━━━━━━━\u001b[0m\u001b[37m\u001b[0m \u001b[1m0s\u001b[0m 2ms/step - accuracy: 0.8793 - loss: 0.3069 \n",
      "Epoch 13/20\n",
      "\u001b[1m25/25\u001b[0m \u001b[32m━━━━━━━━━━━━━━━━━━━━\u001b[0m\u001b[37m\u001b[0m \u001b[1m0s\u001b[0m 3ms/step - accuracy: 0.8726 - loss: 0.3051 \n",
      "Epoch 14/20\n",
      "\u001b[1m25/25\u001b[0m \u001b[32m━━━━━━━━━━━━━━━━━━━━\u001b[0m\u001b[37m\u001b[0m \u001b[1m0s\u001b[0m 1ms/step - accuracy: 0.8760 - loss: 0.3045 \n",
      "Epoch 15/20\n",
      "\u001b[1m25/25\u001b[0m \u001b[32m━━━━━━━━━━━━━━━━━━━━\u001b[0m\u001b[37m\u001b[0m \u001b[1m0s\u001b[0m 858us/step - accuracy: 0.8857 - loss: 0.2908\n",
      "Epoch 16/20\n",
      "\u001b[1m25/25\u001b[0m \u001b[32m━━━━━━━━━━━━━━━━━━━━\u001b[0m\u001b[37m\u001b[0m \u001b[1m0s\u001b[0m 1ms/step - accuracy: 0.8862 - loss: 0.2812 \n",
      "Epoch 17/20\n",
      "\u001b[1m25/25\u001b[0m \u001b[32m━━━━━━━━━━━━━━━━━━━━\u001b[0m\u001b[37m\u001b[0m \u001b[1m0s\u001b[0m 1ms/step - accuracy: 0.8713 - loss: 0.3067 \n",
      "Epoch 18/20\n",
      "\u001b[1m25/25\u001b[0m \u001b[32m━━━━━━━━━━━━━━━━━━━━\u001b[0m\u001b[37m\u001b[0m \u001b[1m0s\u001b[0m 973us/step - accuracy: 0.8928 - loss: 0.2784\n",
      "Epoch 19/20\n",
      "\u001b[1m25/25\u001b[0m \u001b[32m━━━━━━━━━━━━━━━━━━━━\u001b[0m\u001b[37m\u001b[0m \u001b[1m0s\u001b[0m 1ms/step - accuracy: 0.8880 - loss: 0.2682 \n",
      "Epoch 20/20\n",
      "\u001b[1m25/25\u001b[0m \u001b[32m━━━━━━━━━━━━━━━━━━━━\u001b[0m\u001b[37m\u001b[0m \u001b[1m0s\u001b[0m 1ms/step - accuracy: 0.8823 - loss: 0.2720 \n"
     ]
    },
    {
     "data": {
      "text/plain": [
       "<keras.src.callbacks.history.History at 0x212dae165d0>"
      ]
     },
     "execution_count": 6,
     "metadata": {},
     "output_type": "execute_result"
    }
   ],
   "source": [
    "import tensorflow as tf\n",
    "from sklearn.datasets import make_moons\n",
    "from sklearn.model_selection import train_test_split\n",
    "from sklearn.preprocessing import StandardScaler\n",
    "\n",
    "# Dataset\n",
    "X, y = make_moons(n_samples=1000, noise=0.2, random_state=42)\n",
    "X_train, X_test, y_train, y_test = train_test_split(X, y, test_size=0.2)\n",
    "X_train = StandardScaler().fit_transform(X_train)\n",
    "\n",
    "model = tf.keras.Sequential([\n",
    "    tf.keras.layers.Dense(16, activation='relu'),\n",
    "    tf.keras.layers.Dense(8, activation='relu'),\n",
    "    tf.keras.layers.Dense(1, activation='sigmoid')\n",
    "])\n",
    "\n",
    "model.compile(optimizer='adam', loss='binary_crossentropy', metrics=['accuracy'])\n",
    "model.fit(X_train, y_train, epochs=20, batch_size=32)\n"
   ]
  },
  {
   "cell_type": "markdown",
   "id": "b7a0997d",
   "metadata": {},
   "source": [
    "Here is a detailed explanation of Learning Rate and Batch Size, two of the most important hyperparameters you'll tune before training a neural network.\n",
    "\n",
    "---\n",
    "#### 1. Learning Rate\n",
    "The **learning rate**, often denoted as `lr` in code, is a hyperparameter that controls how much the model's weights are adjusted with respect to the loss gradient during training. Think of it as the **size of the steps** the optimizer takes to reach the lowest point in the loss landscape.\n",
    "\n",
    "* **How it Works**: The learning rate is a small positive number (e.g., `0.1`, `0.01`, `0.001`) that scales the gradient before it's used to update the weights. The update rule is conceptually:\n",
    "    $$\\text{new\\_weight} = \\text{old\\_weight} - (\\text{learning\\_rate} \\times \\text{gradient})$$\n",
    "\n",
    "* **Impact of the Learning Rate**:\n",
    "    * **A high learning rate** causes the model to take large steps. This can speed up learning, but it risks **overshooting** the lowest point of the loss function. The model might fail to converge, with the loss bouncing around erratically or even increasing.\n",
    "    * **A low learning rate** causes the model to take tiny, careful steps. While this is more likely to lead to a good solution, it can make training extremely slow. It also runs the risk of getting stuck in a suboptimal \"local minimum.\"\n",
    "\n",
    "Finding the right learning rate is critical for efficient training and is often one of the first hyperparameters to tune.\n",
    "\n",
    "---\n",
    "#### 2. Batch Size\n",
    "The **batch size** defines the number of training samples to work through before the model’s internal parameters are updated. In other words, it's how many examples the model sees before it performs a backpropagation step.\n",
    "\n",
    "* **How it Works**: Instead of calculating the error gradient from the entire dataset at once, the data is broken into smaller \"mini-batches.\" The model performs a forward pass, a backward pass, and a weight update for each mini-batch.\n",
    "\n",
    "* **Impact of the Batch Size**:\n",
    "    * **A small batch size** (e.g., 1, which is true Stochastic Gradient Descent) provides a \"noisier\" but faster estimate of the gradient. The training process can be unstable, with the loss fluctuating a lot, but the randomness can sometimes help the model find better solutions.\n",
    "    * **A large batch size** provides a more accurate and stable gradient estimate, leading to a smoother convergence. However, it requires more memory and computational power per step.\n",
    "    * **A full batch size** (where the batch includes the entire dataset, known as Batch Gradient Descent) is very computationally expensive and is rarely used in modern deep learning.\n",
    "\n",
    "The most common approach is **mini-batch gradient descent**, which uses a batch size between 1 and the full dataset size (typically powers of 2, like 32, 64, or 128), offering a balance between computational efficiency and training stability."
   ]
  },
  {
   "cell_type": "markdown",
   "id": "642965ce",
   "metadata": {},
   "source": [
    "The **loss** and **accuracy** values in your output are key indicators of how well your model is learning during the training process. They are calculated for each epoch based on the functions you specified in `model.compile()`.\n",
    "\n",
    "---\n",
    "#### 3. Accuracy\n",
    "\n",
    "**Accuracy** is a more intuitive metric that measures the fraction of predictions your model got right.\n",
    "\n",
    "* **How it works**: For each data point, the model's output (a probability) is converted into a definite class prediction. The standard threshold is 0.5.\n",
    "    * If the predicted probability is > 0.5, the model predicts class `1`.\n",
    "    * If the predicted probability is ≤ 0.5, the model predicts class `0`.\n",
    "    * This final prediction is then compared to the true label.\n",
    "\n",
    "* **The Formula**: Accuracy is calculated simply as:\n",
    "    $$\\text{Accuracy} = \\frac{\\text{Number of Correct Predictions}}{\\text{Total Number of Samples}}$$\n",
    "\n",
    "The `accuracy` value you see (`0.4572` or 45.7%, `0.4973` or 49.7%, etc.) shows the percentage of the training samples the model classified correctly in that epoch. You can see this value increasing over time, which shows the model is learning.\n",
    "\n",
    "---\n",
    "#### 4. Loss Calculation (Cross Entropy)\n",
    "\n",
    "The **loss** (or error) is a measure of how wrong the model's predictions are compared to the true labels. The optimizer's job is to minimize this value.\n",
    "\n",
    "* **How it works**: You used `'binary_crossentropy'`, which is the standard loss function for two-class (binary) classification problems. It works by heavily penalizing the model when it makes a confident but incorrect prediction.\n",
    "    * If the true label is `1` and the model predicts a low probability like `0.05`, the loss will be very high.\n",
    "    * If the true label is `1` and the model predicts a high probability like `0.95`, the loss will be very low.\n",
    "\n",
    "* **The Formula**: For a single data point, the binary cross-entropy loss is calculated as:\n",
    "    $$L = -[y \\cdot \\log(\\hat{y}) + (1 - y) \\cdot \\log(1 - \\hat{y})]$$\n",
    "    * $y$ is the true label (0 or 1).\n",
    "    * $\\hat{y}$ is the model's predicted probability (a value between 0 and 1 from the sigmoid function).\n",
    "\n",
    "The `loss` value you see in the output (`0.7586`, `0.6941`, etc.) is the **average loss** across all samples processed in that epoch. **The goal of training is to make this number as small as possible**.\n",
    "\n",
    "\n"
   ]
  }
 ],
 "metadata": {
  "kernelspec": {
   "display_name": ".venv",
   "language": "python",
   "name": "python3"
  },
  "language_info": {
   "codemirror_mode": {
    "name": "ipython",
    "version": 3
   },
   "file_extension": ".py",
   "mimetype": "text/x-python",
   "name": "python",
   "nbconvert_exporter": "python",
   "pygments_lexer": "ipython3",
   "version": "3.12.1"
  }
 },
 "nbformat": 4,
 "nbformat_minor": 5
}
