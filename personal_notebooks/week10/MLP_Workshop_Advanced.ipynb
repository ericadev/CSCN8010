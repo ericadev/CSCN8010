{
 "cells": [
  {
   "cell_type": "markdown",
   "id": "2a43de8c",
   "metadata": {},
   "source": [
    "\n",
    "# Foundations of Machine Learning: An Introduction to Neural Networks & MLPs\n",
    "This notebook is a tutorial on **Neural Networks**. It starts with the basic building block, the \"neuron,\" and builds its way up to a more powerful model capable of solving complex problems: the **Multi-Layered Perceptron (MLP)**.\n",
    "\n",
    "At the end is a workshop on classifying handwritten digits from the MNIST dataset.\n",
    "\n",
    "You will be asked to compare the Keras, PyTorch and TensorFlow implementations in terms of accuracy and speed.\n",
    "\n",
    "<br/>\n",
    "<br/>\n",
    "\n",
    "### 💡 Additional Reading Material\n",
    "\n",
    "These other tutorials come from the Course Notebooks Repository:\n",
    "\n",
    "> In-depth: \n",
    "[**Multiclass Classification - A Simple Keras Model (MNIST)**](https://github.com/CSCN8010/CSCN8010/blob/main/dl_class_notebooks/03A_minimal_mnist_keras.ipynb)\n",
    "\n",
    "> In-depth: \n",
    "[**Train and Aave a Simple Keras Model (MNIST)**](https://github.com/CSCN8010/CSCN8010/blob/main/dl_class_notebooks/03D_keras_checkpoints_save_model.ipynb)\n",
    "\n",
    "> In-depth: \n",
    "[**Loading a pre-trained Keras model and classifying digits (MNIST)**](https://github.com/CSCN8010/CSCN8010/blob/main/dl_class_notebooks/03B_load_minimal_mnist_model.ipynb)  \n",
    "\n",
    "<br/>\n",
    "<br/>\n",
    "\n",
    "***\n"
   ]
  },
  {
   "cell_type": "markdown",
   "id": "0ec38121",
   "metadata": {},
   "source": [
    "\n",
    "### 1. The Inspiration: From Biological to Artificial Neurons\n",
    "\n",
    "At its core, the field of neural networks is inspired by the human brain. We'll start by understanding the basic concept of a neuron.\n",
    "\n",
    "#### **Key Concepts: The Neuron**\n",
    "\n",
    "- An artificial intelligence (AI) system is designed to perceive its environment and act accordingly. \n",
    "- Neural networks are the \"brain\" of these systems.\n",
    "- The simplest neural network is a **perceptron**, which consists of a single artificial neuron.\n",
    "- The concept of an artificial neuron is modeled after a biological one.\n",
    "\n",
    "* A **biological neuron** receives electrical signals through its *dendrites*. If the combined strength of these signals surpasses a certain threshold, the neuron \"fires,\" sending an output signal through its *synapses* to other neurons.\n",
    "* An **artificial neuron** works similarly. It receives multiple *inputs*, performs a calculation, and if the result exceeds a threshold, it produces an *output*.\n"
   ]
  },
  {
   "cell_type": "markdown",
   "id": "4ef255f3",
   "metadata": {},
   "source": [
    "\n",
    "### 2. The Perceptron: A Single Neuron in Action\n",
    "\n",
    "Let's break down the mechanics of that single artificial neuron, the perceptron.\n",
    "\n",
    "#### **Presentation: Anatomy of a Perceptron**\n",
    "\n",
    "A perceptron operates on a simple principle: it takes a set of inputs, weighs them based on their importance, sums them up, and then uses an **activation function** to decide whether to \"fire\" and produce an output.\n",
    "\n",
    "Here are the key components:\n",
    "\n",
    "1.  **Inputs ($x$)**: These are the features of your data. For example, if you're predicting a house price, inputs could be the size, number of rooms, and age of the house. Each input is a feature that contributes to the final decision.\n",
    "\n",
    "2.  **Weights ($w$)**: Not all inputs are equally important. Each input feature ($x_i$) is assigned a weight ($w_i$) that reflects its importance in the decision-making process. A higher weight amplifies an input's effect, while a lower weight diminishes it. The network learns these weights during training.\n",
    "\n",
    "3.  **Weighted Sum ($z$)**: The neuron calculates the sum of all inputs multiplied by their corresponding weights. We also add a **bias ($b$)**, which is like the y-intercept in a linear equation. It allows us to shift the activation function, giving the model more flexibility. The formula is:\n",
    "    $$z = (x_1w_1 + x_2w_2 + ... + x_nw_n) + b = \\sum_{i=1}^{n} x_i w_i + b$$\n",
    "\n",
    "4.  **Activation Function ($f(z)$)**: This is the decision-making unit of the neuron. It takes the weighted sum ($z$) as input and transforms it into the final output. For a simple step function, the output is either 0 or 1. This introduces non-linearity, which is crucial for learning complex patterns.\n"
   ]
  },
  {
   "cell_type": "markdown",
   "id": "8dc6eb5a",
   "metadata": {},
   "source": [
    "\n",
    "#### **Building a Perceptron with Python**\n",
    "\n",
    "Let's build a simple perceptron from scratch using NumPy to see these concepts in code. We'll use a simple \"step\" activation function.\n"
   ]
  },
  {
   "cell_type": "code",
   "execution_count": 1,
   "id": "7a4ad289",
   "metadata": {},
   "outputs": [
    {
     "name": "stdout",
     "output_type": "stream",
     "text": [
      "Initialized weights: [0.7293276  0.6761844  0.17294981]\n",
      "Inputs (with bias): [0.8 0.5 1. ]\n",
      "Weighted Sum (z): 1.0945\n",
      "Output: 1\n",
      "\n",
      "Final prediction for inputs [0.8 0.5] is: 1\n"
     ]
    }
   ],
   "source": [
    "\n",
    "import numpy as np\n",
    "\n",
    "# A simple perceptron class\n",
    "class Perceptron:\n",
    "    \"\"\"A single neuron model.\"\"\"\n",
    "\n",
    "    def __init__(self, num_inputs):\n",
    "        \"\"\"\n",
    "        Initializes the perceptron.\n",
    "        Args:\n",
    "            num_inputs (int): The number of input features.\n",
    "        \"\"\"\n",
    "        # Initialize weights with small random numbers. Bias is the last weight.\n",
    "        self.weights = np.random.rand(num_inputs + 1)\n",
    "        print(f\"Initialized weights: {self.weights}\")\n",
    "\n",
    "    def step_function(self, z):\n",
    "        \"\"\"The activation function.\"\"\"\n",
    "        return 1 if z >= 0 else 0\n",
    "\n",
    "    def predict(self, inputs):\n",
    "        \"\"\"\n",
    "        Calculates the weighted sum and passes it to the activation function.\n",
    "        Args:\n",
    "            inputs (list or np.array): The input features.\n",
    "        Returns:\n",
    "            int: The binary output (0 or 1).\n",
    "        \"\"\"\n",
    "        # Add the bias input (always 1)\n",
    "        inputs_with_bias = np.append(inputs, 1)\n",
    "\n",
    "        # Calculate the weighted sum: z = sum(x_i * w_i)\n",
    "        z = np.dot(inputs_with_bias, self.weights)\n",
    "        print(f\"Inputs (with bias): {inputs_with_bias}\")\n",
    "        print(f\"Weighted Sum (z): {z:.4f}\")\n",
    "\n",
    "        # Apply the activation function\n",
    "        output = self.step_function(z)\n",
    "        print(f\"Output: {output}\")\n",
    "        return output\n",
    "\n",
    "# --- Let's test our Perceptron! ---\n",
    "# Create a perceptron that takes 2 inputs\n",
    "p = Perceptron(num_inputs=2)\n",
    "\n",
    "# Define some sample inputs\n",
    "sample_inputs = np.array([0.8, 0.5])\n",
    "\n",
    "# Make a prediction\n",
    "prediction = p.predict(sample_inputs)\n",
    "print(f\"\\nFinal prediction for inputs {sample_inputs} is: {prediction}\")\n"
   ]
  },
  {
   "cell_type": "markdown",
   "id": "ef699dbf",
   "metadata": {},
   "source": [
    "\n",
    "### 3. Activation Functions: Adding Non-Linearity\n",
    "\n",
    "[cite_start]A single perceptron with a step function can only separate data with a single straight line[cite: 178]. To learn truly complex patterns, like those in images or speech, we need more sophisticated activation functions that introduce **non-linearity**.\n",
    "\n",
    "#### **Presentation: Common Activation Functions**\n",
    "\n",
    "While there are many activation functions, three are particularly common and important to know. [cite_start]The PDF specifically mentions **ReLU** and **softmax** as popular choices[cite: 280].\n",
    "\n",
    "1.  **Sigmoid (or Logistic)**\n",
    "    * **Formula**: $\\sigma(z) = \\frac{1}{1 + e^{-z}}$\n",
    "    * **Output Range**: (0, 1)\n",
    "    * **Use Case**: Excellent for binary classification problems where the output needs to be a probability.\n",
    "    * **Downside**: Suffers from the \"vanishing gradient\" problem, which can slow down learning in deep networks.\n",
    "\n",
    "2.  **Tanh (Hyperbolic Tangent)**\n",
    "    * **Formula**: $\\tanh(z) = \\frac{e^z - e^{-z}}{e^z + e^{-z}}$\n",
    "    * **Output Range**: (-1, 1)\n",
    "    * **Use Case**: Similar to sigmoid but is \"zero-centered,\" which can sometimes help models learn faster.\n",
    "    * **Downside**: Also suffers from the vanishing gradient problem.\n",
    "\n",
    "3.  **ReLU (Rectified Linear Unit)**\n",
    "    * **Formula**: $R(z) = \\max(0, z)$\n",
    "    * **Output Range**: [0, $\\infty$)\n",
    "    * **Use Case**: The most popular activation function for hidden layers in deep learning. It's computationally very efficient and helps mitigate the vanishing gradient problem.\n",
    "    * **Downside**: Can \"die\" if a neuron's output consistently becomes zero, preventing weight updates.\n"
   ]
  },
  {
   "cell_type": "markdown",
   "id": "b594a818",
   "metadata": {},
   "source": [
    "\n",
    "#### **Visualizing Activation Functions**\n",
    "\n",
    "Let's plot these functions to understand their behavior.\n"
   ]
  },
  {
   "cell_type": "code",
   "execution_count": 2,
   "id": "18320478",
   "metadata": {},
   "outputs": [
    {
     "data": {
      "image/png": "[encoded data removed]",
      "text/plain": [
       "<Figure size 1800x500 with 3 Axes>"
      ]
     },
     "metadata": {},
     "output_type": "display_data"
    }
   ],
   "source": [
    "\n",
    "import numpy as np\n",
    "import matplotlib.pyplot as plt\n",
    "\n",
    "# Define the input range\n",
    "z = np.linspace(-10, 10, 100)\n",
    "\n",
    "# Define the activation functions\n",
    "def sigmoid(x):\n",
    "    return 1 / (1 + np.exp(-x))\n",
    "\n",
    "def tanh(x):\n",
    "    return np.tanh(x)\n",
    "\n",
    "def relu(x):\n",
    "    return np.maximum(0, x)\n",
    "\n",
    "# Plotting\n",
    "plt.style.use('seaborn-v0_8-whitegrid')\n",
    "fig, axs = plt.subplots(1, 3, figsize=(18, 5))\n",
    "\n",
    "axs[0].plot(z, sigmoid(z), color='blue')\n",
    "axs[0].set_title('Sigmoid Activation Function', fontsize=14)\n",
    "axs[0].set_xlabel('z (Weighted Sum)')\n",
    "axs[0].set_ylabel('Output')\n",
    "\n",
    "axs[1].plot(z, tanh(z), color='green')\n",
    "axs[1].set_title('Tanh Activation Function', fontsize=14)\n",
    "axs[1].set_xlabel('z (Weighted Sum)')\n",
    "\n",
    "axs[2].plot(z, relu(z), color='red')\n",
    "axs[2].set_title('ReLU Activation Function', fontsize=14)\n",
    "axs[2].set_xlabel('z (Weighted Sum)')\n",
    "\n",
    "plt.suptitle('Common Activation Functions', fontsize=16)\n",
    "plt.show()\n"
   ]
  },
  {
   "cell_type": "markdown",
   "id": "7199b85c",
   "metadata": {},
   "source": [
    "\n",
    "### 4. From One to Many: The Multi-Layer Perceptron (MLP)\n",
    "\n",
    "A single neuron is limited. To solve complex, **non-linear problems**, we need to combine many neurons into a network.\n",
    "\n",
    "#### **MLP Architecture**\n",
    "\n",
    "A very common architecture is to stack neurons in layers. This creates a **Multi-Layer Perceptron (MLP)**. An MLP has three types of layers:\n",
    "\n",
    "1.  **Input Layer**: This layer receives the initial feature vector. It doesn't perform calculations; it simply passes the data to the first hidden layer.\n",
    "2.  **Hidden Layers**: These are the layers between the input and output. This is where most of the learning happens. Each neuron in a hidden layer receives outputs from the previous layer, performs the `weighted sum -> activation` calculation, and passes its output to the next layer. Networks with two or more hidden layers are often called **deep neural networks**.\n",
    "3.  **Output Layer**: This is the final layer that produces the model's prediction. The number of neurons and the activation function in this layer depend on the problem you're solving (e.g., one neuron with a sigmoid for binary classification, or multiple neurons with a softmax function for multi-class classification).\n",
    "\n",
    "In an MLP, layers are typically **fully connected**, meaning every neuron in one layer is connected to every neuron in the next layer.\n"
   ]
  },
  {
   "cell_type": "markdown",
   "id": "58778b50",
   "metadata": {},
   "source": [
    "\n",
    "### 5. The Learning Process: Feedforward & Backpropagation\n",
    "\n",
    "How does an MLP actually *learn*? It's a two-part process that is repeated many times: **Feedforward** to make a prediction, and **Backpropagation** to correct errors.\n",
    "\n",
    "#### **The Learning Loop**\n",
    "\n",
    "**Step 1: Feedforward (Making a Prediction)**\n",
    "\n",
    "This is the process of information flowing forward through the network.\n",
    "\n",
    "1.  The input data is fed into the **input layer**.\n",
    "2.  The data flows to the first **hidden layer**. Each neuron in this layer calculates its weighted sum and applies its activation function.\n",
    "3.  The outputs of the first hidden layer become the inputs for the second hidden layer, and so on.\n",
    "4.  This continues until the data reaches the **output layer**, which produces the final prediction ($y'$).\n",
    "\n",
    "The entire process is a chain of `weighted sum -> activation` calculations, layer by layer, from input to output.\n",
    "\n",
    "**Step 2: Backpropagation (Learning from Mistakes)**\n",
    "\n",
    "Once the network makes a prediction ($y'$), we need to see how good it was.\n",
    "\n",
    "1.  **Compute Error (Loss)**: We compare the network's prediction ($y'$) with the correct, true label ($y$). The difference is the **error**. We use an **error function** (or loss function) like Mean Squared Error or Cross-Entropy to calculate a single score representing how wrong the model was.\n",
    "    * **Error Calculation**: `error = y - y'` \n",
    "\n",
    "2.  **Propagate Error Backwards**: This is the magic of backpropagation. The error is sent backward through the network, from the output layer to the input layer.\n",
    "\n",
    "3.  **Update Weights**: As the error propagates back, it's used to calculate how much each weight and bias in the network contributed to the total error. The network then adjusts its weights to reduce the error. For instance, if a large weight led to a large error, the network will decrease that weight. This process uses calculus (specifically, an algorithm called **gradient descent**) to find the optimal weight values that minimize the error.\n",
    "\n",
    "4.  **Repeat**: This entire `feedforward -> backpropagation` cycle is repeated many times (for many **epochs**) with the entire training dataset. With each cycle, the network's weights get a little bit better, and its predictions become more and more accurate.\n"
   ]
  },
  {
   "cell_type": "markdown",
   "id": "5a892603",
   "metadata": {},
   "source": [
    "\n",
    "### 6. Building an MLP: The Complete Workshop\n",
    "\n",
    "Now, let's put it all together. We will build, train, and evaluate an MLP to solve a classic machine learning problem: classifying handwritten digits from the MNIST dataset. We'll use the three most popular deep learning libraries: **Keras (with a TensorFlow backend)**, **TensorFlow (Core API)**, and **PyTorch**.\n",
    "\n",
    "This will show you that while the syntax differs, the core concepts�defining layers, choosing a loss function, and training the model�are universal.\n",
    "\n",
    "#### **Code Workshop: MNIST Digit Classification**\n",
    "\n",
    "First, let's load and prepare our data.\n"
   ]
  },
  {
   "cell_type": "code",
   "execution_count": 3,
   "id": "0767657f",
   "metadata": {},
   "outputs": [
    {
     "name": "stdout",
     "output_type": "stream",
     "text": [
      "TensorFlow/Keras Data Shape: (60000, 784)\n",
      "PyTorch Data Loaded. Number of training batches: 938\n"
     ]
    }
   ],
   "source": [
    "\n",
    "import tensorflow as tf\n",
    "from tensorflow import keras\n",
    "import torch\n",
    "import torch.nn as nn\n",
    "import torch.optim as optim\n",
    "from torchvision import datasets, transforms\n",
    "import numpy as np\n",
    "import matplotlib.pyplot as plt\n",
    "\n",
    "# --- Load and Preprocess Data ---\n",
    "# Load data for TensorFlow/Keras\n",
    "(x_train_tf, y_train_tf), (x_test_tf, y_test_tf) = keras.datasets.mnist.load_data()\n",
    "\n",
    "# Normalize pixel values to be between 0 and 1\n",
    "x_train_tf = x_train_tf.astype(\"float32\") / 255.0\n",
    "x_test_tf = x_test_tf.astype(\"float32\") / 255.0\n",
    "\n",
    "# Flatten the images from 28x28 to 784-element vectors\n",
    "x_train_flat = x_train_tf.reshape(-1, 784)\n",
    "x_test_flat = x_test_tf.reshape(-1, 784)\n",
    "\n",
    "print(f\"TensorFlow/Keras Data Shape: {x_train_flat.shape}\")\n",
    "\n",
    "# Load data for PyTorch\n",
    "transform = transforms.Compose([\n",
    "    transforms.ToTensor(),\n",
    "    transforms.Normalize((0.5,), (0.5,))\n",
    "])\n",
    "\n",
    "train_dataset_pt = datasets.MNIST(root='./data', train=True, download=True, transform=transform)\n",
    "test_dataset_pt = datasets.MNIST(root='./data', train=False, download=True, transform=transform)\n",
    "\n",
    "train_loader_pt = torch.utils.data.DataLoader(train_dataset_pt, batch_size=64, shuffle=True)\n",
    "test_loader_pt = torch.utils.data.DataLoader(test_dataset_pt, batch_size=64, shuffle=False)\n",
    "\n",
    "print(f\"PyTorch Data Loaded. Number of training batches: {len(train_loader_pt)}\")\n"
   ]
  },
  {
   "cell_type": "markdown",
   "id": "871b6da1",
   "metadata": {},
   "source": [
    "\n",
    "#### **Implementation 1: Keras**\n",
    "\n",
    "Keras is popular due to its simplicity and user-friendly API. \n",
    "\n",
    "> Note the time spent training the model. \n",
    "\n",
    "- Tweak the hyperparameters to and test their impact on training speed.\n",
    "- Analyze the training metrics (on the output). What are `val_accuracy` and `val_loss` ?\n"
   ]
  },
  {
   "cell_type": "code",
   "execution_count": 4,
   "id": "476265ad",
   "metadata": {},
   "outputs": [
    {
     "data": {
      "text/html": [
       "<pre style=\"white-space:pre;overflow-x:auto;line-height:normal;font-family:Menlo,'DejaVu Sans Mono',consolas,'Courier New',monospace\"><span style=\"font-weight: bold\">Model: \"sequential\"</span>\n",
       "</pre>\n"
      ],
      "text/plain": [
       "\u001b[1mModel: \"sequential\"\u001b[0m\n"
      ]
     },
     "metadata": {},
     "output_type": "display_data"
    },
    {
     "data": {
      "text/html": [
       "<pre style=\"white-space:pre;overflow-x:auto;line-height:normal;font-family:Menlo,'DejaVu Sans Mono',consolas,'Courier New',monospace\">┏━━━━━━━━━━━━━━━━━━━━━━━━━━━━━━━━━┳━━━━━━━━━━━━━━━━━━━━━━━━┳━━━━━━━━━━━━━━━┓\n",
       "┃<span style=\"font-weight: bold\"> Layer (type)                    </span>┃<span style=\"font-weight: bold\"> Output Shape           </span>┃<span style=\"font-weight: bold\">       Param # </span>┃\n",
       "┡━━━━━━━━━━━━━━━━━━━━━━━━━━━━━━━━━╇━━━━━━━━━━━━━━━━━━━━━━━━╇━━━━━━━━━━━━━━━┩\n",
       "│ dense (<span style=\"color: #0087ff; text-decoration-color: #0087ff\">Dense</span>)                   │ (<span style=\"color: #00d7ff; text-decoration-color: #00d7ff\">None</span>, <span style=\"color: #00af00; text-decoration-color: #00af00\">128</span>)            │       <span style=\"color: #00af00; text-decoration-color: #00af00\">100,480</span> │\n",
       "├─────────────────────────────────┼────────────────────────┼───────────────┤\n",
       "│ dense_1 (<span style=\"color: #0087ff; text-decoration-color: #0087ff\">Dense</span>)                 │ (<span style=\"color: #00d7ff; text-decoration-color: #00d7ff\">None</span>, <span style=\"color: #00af00; text-decoration-color: #00af00\">64</span>)             │         <span style=\"color: #00af00; text-decoration-color: #00af00\">8,256</span> │\n",
       "├─────────────────────────────────┼────────────────────────┼───────────────┤\n",
       "│ dense_2 (<span style=\"color: #0087ff; text-decoration-color: #0087ff\">Dense</span>)                 │ (<span style=\"color: #00d7ff; text-decoration-color: #00d7ff\">None</span>, <span style=\"color: #00af00; text-decoration-color: #00af00\">10</span>)             │           <span style=\"color: #00af00; text-decoration-color: #00af00\">650</span> │\n",
       "└─────────────────────────────────┴────────────────────────┴───────────────┘\n",
       "</pre>\n"
      ],
      "text/plain": [
       "┏━━━━━━━━━━━━━━━━━━━━━━━━━━━━━━━━━┳━━━━━━━━━━━━━━━━━━━━━━━━┳━━━━━━━━━━━━━━━┓\n",
       "┃\u001b[1m \u001b[0m\u001b[1mLayer (type)                   \u001b[0m\u001b[1m \u001b[0m┃\u001b[1m \u001b[0m\u001b[1mOutput Shape          \u001b[0m\u001b[1m \u001b[0m┃\u001b[1m \u001b[0m\u001b[1m      Param #\u001b[0m\u001b[1m \u001b[0m┃\n",
       "┡━━━━━━━━━━━━━━━━━━━━━━━━━━━━━━━━━╇━━━━━━━━━━━━━━━━━━━━━━━━╇━━━━━━━━━━━━━━━┩\n",
       "│ dense (\u001b[38;5;33mDense\u001b[0m)                   │ (\u001b[38;5;45mNone\u001b[0m, \u001b[38;5;34m128\u001b[0m)            │       \u001b[38;5;34m100,480\u001b[0m │\n",
       "├─────────────────────────────────┼────────────────────────┼───────────────┤\n",
       "│ dense_1 (\u001b[38;5;33mDense\u001b[0m)                 │ (\u001b[38;5;45mNone\u001b[0m, \u001b[38;5;34m64\u001b[0m)             │         \u001b[38;5;34m8,256\u001b[0m │\n",
       "├─────────────────────────────────┼────────────────────────┼───────────────┤\n",
       "│ dense_2 (\u001b[38;5;33mDense\u001b[0m)                 │ (\u001b[38;5;45mNone\u001b[0m, \u001b[38;5;34m10\u001b[0m)             │           \u001b[38;5;34m650\u001b[0m │\n",
       "└─────────────────────────────────┴────────────────────────┴───────────────┘\n"
      ]
     },
     "metadata": {},
     "output_type": "display_data"
    },
    {
     "data": {
      "text/html": [
       "<pre style=\"white-space:pre;overflow-x:auto;line-height:normal;font-family:Menlo,'DejaVu Sans Mono',consolas,'Courier New',monospace\"><span style=\"font-weight: bold\"> Total params: </span><span style=\"color: #00af00; text-decoration-color: #00af00\">109,386</span> (427.29 KB)\n",
       "</pre>\n"
      ],
      "text/plain": [
       "\u001b[1m Total params: \u001b[0m\u001b[38;5;34m109,386\u001b[0m (427.29 KB)\n"
      ]
     },
     "metadata": {},
     "output_type": "display_data"
    },
    {
     "data": {
      "text/html": [
       "<pre style=\"white-space:pre;overflow-x:auto;line-height:normal;font-family:Menlo,'DejaVu Sans Mono',consolas,'Courier New',monospace\"><span style=\"font-weight: bold\"> Trainable params: </span><span style=\"color: #00af00; text-decoration-color: #00af00\">109,386</span> (427.29 KB)\n",
       "</pre>\n"
      ],
      "text/plain": [
       "\u001b[1m Trainable params: \u001b[0m\u001b[38;5;34m109,386\u001b[0m (427.29 KB)\n"
      ]
     },
     "metadata": {},
     "output_type": "display_data"
    },
    {
     "data": {
      "text/html": [
       "<pre style=\"white-space:pre;overflow-x:auto;line-height:normal;font-family:Menlo,'DejaVu Sans Mono',consolas,'Courier New',monospace\"><span style=\"font-weight: bold\"> Non-trainable params: </span><span style=\"color: #00af00; text-decoration-color: #00af00\">0</span> (0.00 B)\n",
       "</pre>\n"
      ],
      "text/plain": [
       "\u001b[1m Non-trainable params: \u001b[0m\u001b[38;5;34m0\u001b[0m (0.00 B)\n"
      ]
     },
     "metadata": {},
     "output_type": "display_data"
    },
    {
     "name": "stdout",
     "output_type": "stream",
     "text": [
      "\n",
      "--- Training Keras Model ---\n",
      "Epoch 1/5\n",
      "\u001b[1m844/844\u001b[0m \u001b[32m━━━━━━━━━━━━━━━━━━━━\u001b[0m\u001b[37m\u001b[0m \u001b[1m10s\u001b[0m 11ms/step - accuracy: 0.8424 - loss: 0.5440 - val_accuracy: 0.9598 - val_loss: 0.1382\n",
      "Epoch 2/5\n",
      "\u001b[1m844/844\u001b[0m \u001b[32m━━━━━━━━━━━━━━━━━━━━\u001b[0m\u001b[37m\u001b[0m \u001b[1m10s\u001b[0m 12ms/step - accuracy: 0.9625 - loss: 0.1293 - val_accuracy: 0.9693 - val_loss: 0.1007\n",
      "Epoch 3/5\n",
      "\u001b[1m844/844\u001b[0m \u001b[32m━━━━━━━━━━━━━━━━━━━━\u001b[0m\u001b[37m\u001b[0m \u001b[1m3s\u001b[0m 4ms/step - accuracy: 0.9731 - loss: 0.0868 - val_accuracy: 0.9748 - val_loss: 0.0842\n",
      "Epoch 4/5\n",
      "\u001b[1m844/844\u001b[0m \u001b[32m━━━━━━━━━━━━━━━━━━━━\u001b[0m\u001b[37m\u001b[0m \u001b[1m3s\u001b[0m 4ms/step - accuracy: 0.9827 - loss: 0.0580 - val_accuracy: 0.9768 - val_loss: 0.0835\n",
      "Epoch 5/5\n",
      "\u001b[1m844/844\u001b[0m \u001b[32m━━━━━━━━━━━━━━━━━━━━\u001b[0m\u001b[37m\u001b[0m \u001b[1m19s\u001b[0m 23ms/step - accuracy: 0.9868 - loss: 0.0445 - val_accuracy: 0.9748 - val_loss: 0.0894\n",
      "\n",
      "--- Evaluating Keras Model ---\n",
      "313/313 - 4s - 12ms/step - accuracy: 0.9721 - loss: 0.0932\n",
      "\n",
      "Keras Test Accuracy: 0.9721\n"
     ]
    }
   ],
   "source": [
    "\n",
    "# --- 1. Define the Keras Model ---\n",
    "# This is a sequential model, a simple stack of layers.\n",
    "model_keras = keras.Sequential([\n",
    "    # Input layer: 784 inputs (our flattened 28x28 image)\n",
    "    keras.layers.Input(shape=(784,)),\n",
    "    # Hidden Layer 1: 128 neurons, ReLU activation\n",
    "    keras.layers.Dense(128, activation='relu'),\n",
    "    # Hidden Layer 2: 64 neurons, ReLU activation\n",
    "    keras.layers.Dense(64, activation='relu'),\n",
    "    # Output Layer: 10 neurons (for digits 0-9), softmax for multi-class probability\n",
    "    keras.layers.Dense(10, activation='softmax')\n",
    "])\n",
    "\n",
    "# Print a summary of the model architecture\n",
    "model_keras.summary()\n",
    "\n",
    "# --- 2. Compile the Model ---\n",
    "# This step configures the model for training.\n",
    "model_keras.compile(\n",
    "    optimizer='adam',  # Adam is an efficient optimization algorithm\n",
    "    loss='sparse_categorical_crossentropy',  # A common loss function for multi-class classification\n",
    "    metrics=['accuracy']  # We want to monitor the accuracy\n",
    ")\n",
    "\n",
    "# --- 3. Train the Model ---\n",
    "print(\"\\n--- Training Keras Model ---\")\n",
    "history = model_keras.fit(\n",
    "    x_train_flat,\n",
    "    y_train_tf,\n",
    "    batch_size=64,\n",
    "    epochs=5,  # An epoch is one full pass through the entire training dataset\n",
    "    validation_split=0.1 # Use 10% of training data for validation\n",
    ")\n",
    "\n",
    "# --- 4. Evaluate the Model ---\n",
    "print(\"\\n--- Evaluating Keras Model ---\")\n",
    "test_loss, test_acc = model_keras.evaluate(x_test_flat, y_test_tf, verbose=2)\n",
    "print(f\"\\nKeras Test Accuracy: {test_acc:.4f}\")\n"
   ]
  },
  {
   "cell_type": "markdown",
   "id": "d550191d",
   "metadata": {},
   "source": [
    "\n",
    "#### **Implementation 2: PyTorch**\n",
    "\n",
    "PyTorch is known for its flexibility and is very popular in research. The structure is more explicit, requiring you to define the model as a class. \n",
    "\n",
    "> Note the time spent training the model. \n",
    "\n",
    "- Tweak the hyperparameters to and test their impact on training speed.\n",
    "- Analyze the code. What are `images`, `labels`, `criterion` and `optimizer` ?\n"
   ]
  },
  {
   "cell_type": "code",
   "execution_count": 5,
   "id": "9a7ce27e",
   "metadata": {},
   "outputs": [
    {
     "name": "stdout",
     "output_type": "stream",
     "text": [
      "MLP_PyTorch(\n",
      "  (flatten): Flatten(start_dim=1, end_dim=-1)\n",
      "  (layers): Sequential(\n",
      "    (0): Linear(in_features=784, out_features=128, bias=True)\n",
      "    (1): ReLU()\n",
      "    (2): Linear(in_features=128, out_features=64, bias=True)\n",
      "    (3): ReLU()\n",
      "    (4): Linear(in_features=64, out_features=10, bias=True)\n",
      "  )\n",
      ")\n",
      "\n",
      "--- Training PyTorch Model ---\n",
      "Epoch 1, Loss: 0.3809\n",
      "Epoch 2, Loss: 0.1841\n",
      "Epoch 3, Loss: 0.1385\n",
      "Epoch 4, Loss: 0.1135\n",
      "Epoch 5, Loss: 0.0975\n",
      "\n",
      "--- Evaluating PyTorch Model ---\n",
      "PyTorch Test Accuracy: 0.9698\n"
     ]
    }
   ],
   "source": [
    "\n",
    "# --- 1. Define the PyTorch Model ---\n",
    "class MLP_PyTorch(nn.Module):\n",
    "    def __init__(self):\n",
    "        super(MLP_PyTorch, self).__init__()\n",
    "        self.flatten = nn.Flatten()\n",
    "        # Define the sequence of layers\n",
    "        self.layers = nn.Sequential(\n",
    "            nn.Linear(28 * 28, 128), # Input -> Hidden 1\n",
    "            nn.ReLU(),\n",
    "            nn.Linear(128, 64),      # Hidden 1 -> Hidden 2\n",
    "            nn.ReLU(),\n",
    "            nn.Linear(64, 10)        # Hidden 2 -> Output\n",
    "        )\n",
    "\n",
    "    def forward(self, x):\n",
    "        # This defines the feedforward pass\n",
    "        x = self.flatten(x)\n",
    "        logits = self.layers(x)\n",
    "        return logits\n",
    "\n",
    "model_pt = MLP_PyTorch()\n",
    "print(model_pt)\n",
    "\n",
    "# --- 2. Define Loss and Optimizer ---\n",
    "criterion = nn.CrossEntropyLoss() # Combines LogSoftmax and NLLLoss\n",
    "optimizer = optim.Adam(model_pt.parameters(), lr=0.001)\n",
    "\n",
    "# --- 3. Train the Model ---\n",
    "print(\"\\n--- Training PyTorch Model ---\")\n",
    "model_pt.train() # Set the model to training mode\n",
    "for epoch in range(5):\n",
    "    running_loss = 0.0\n",
    "    for i, (images, labels) in enumerate(train_loader_pt):\n",
    "        # Zero the parameter gradients\n",
    "        optimizer.zero_grad()\n",
    "\n",
    "        # Forward pass\n",
    "        outputs = model_pt(images)\n",
    "        loss = criterion(outputs, labels)\n",
    "\n",
    "        # Backward pass and optimize\n",
    "        loss.backward()\n",
    "        optimizer.step()\n",
    "\n",
    "        running_loss += loss.item()\n",
    "    print(f\"Epoch {epoch+1}, Loss: {running_loss/len(train_loader_pt):.4f}\")\n",
    "\n",
    "# --- 4. Evaluate the Model ---\n",
    "print(\"\\n--- Evaluating PyTorch Model ---\")\n",
    "model_pt.eval() # Set the model to evaluation mode\n",
    "correct = 0\n",
    "total = 0\n",
    "with torch.no_grad(): # We don't need to calculate gradients during evaluation\n",
    "    for images, labels in test_loader_pt:\n",
    "        outputs = model_pt(images)\n",
    "        _, predicted = torch.max(outputs.data, 1)\n",
    "        total += labels.size(0)\n",
    "        correct += (predicted == labels).sum().item()\n",
    "\n",
    "print(f\"PyTorch Test Accuracy: {correct / total:.4f}\")\n"
   ]
  },
  {
   "cell_type": "markdown",
   "id": "47268408",
   "metadata": {},
   "source": [
    "\n",
    "#### **Implementation 3: TensorFlow (Core API)**\n",
    "\n",
    "This shows how to build a model using the core TensorFlow 2.x API, which is more verbose than Keras but offers more control.\n",
    "\n",
    "> Note the time spent training the model. \n",
    "\n",
    "- Tweak the hyperparameters to and test their impact on training speed.\n",
    "- Analyze the training metrics (on the output). What are `@tf.function`, `loss_object` and `optimizer_tf` ?\n"
   ]
  },
  {
   "cell_type": "code",
   "execution_count": 6,
   "id": "777b0d16",
   "metadata": {},
   "outputs": [
    {
     "name": "stdout",
     "output_type": "stream",
     "text": [
      "\n",
      "--- Training TensorFlow Core API Model ---\n",
      "Epoch 1, Loss: 0.2781\n",
      "Epoch 2, Loss: 0.1140\n",
      "Epoch 3, Loss: 0.0806\n",
      "Epoch 4, Loss: 0.0612\n",
      "Epoch 5, Loss: 0.0476\n",
      "\n",
      "--- Evaluating TensorFlow Core API Model ---\n",
      "TensorFlow Core Test Accuracy: 0.9755\n"
     ]
    }
   ],
   "source": [
    "\n",
    "# Using the data we already loaded and flattened for Keras\n",
    "# Create TensorFlow datasets\n",
    "train_dataset_tf = tf.data.Dataset.from_tensor_slices((x_train_flat, y_train_tf)).shuffle(60000).batch(64)\n",
    "test_dataset_tf = tf.data.Dataset.from_tensor_slices((x_test_flat, y_test_tf)).batch(64)\n",
    "\n",
    "# --- 1. Define the TensorFlow Model ---\n",
    "class MLP_TensorFlow(tf.keras.Model):\n",
    "    def __init__(self):\n",
    "        super(MLP_TensorFlow, self).__init__()\n",
    "        self.dense1 = tf.keras.layers.Dense(128, activation='relu')\n",
    "        self.dense2 = tf.keras.layers.Dense(64, activation='relu')\n",
    "        self.dense3 = tf.keras.layers.Dense(10) # Logits output, softmax is in the loss\n",
    "\n",
    "    def call(self, x):\n",
    "        x = self.dense1(x)\n",
    "        x = self.dense2(x)\n",
    "        return self.dense3(x)\n",
    "\n",
    "model_tf = MLP_TensorFlow()\n",
    "\n",
    "# --- 2. Define Loss and Optimizer ---\n",
    "loss_object = tf.keras.losses.SparseCategoricalCrossentropy(from_logits=True)\n",
    "optimizer_tf = tf.keras.optimizers.Adam()\n",
    "\n",
    "# --- 3. Define Training and Test Steps (more explicit than Keras) ---\n",
    "#  @tf.function is a decorator. It converts regular Python code into an optimized TensorFlow graph\n",
    "@tf.function\n",
    "def train_step(images, labels):\n",
    "    with tf.GradientTape() as tape:\n",
    "        predictions = model_tf(images, training=True)\n",
    "        loss = loss_object(labels, predictions)\n",
    "    gradients = tape.gradient(loss, model_tf.trainable_variables)\n",
    "    optimizer_tf.apply_gradients(zip(gradients, model_tf.trainable_variables))\n",
    "    return loss\n",
    "\n",
    "# --- 4. Train the Model ---\n",
    "print(\"\\n--- Training TensorFlow Core API Model ---\")\n",
    "for epoch in range(5):\n",
    "    epoch_loss_avg = tf.keras.metrics.Mean()\n",
    "    for images, labels in train_dataset_tf:\n",
    "        loss = train_step(images, labels)\n",
    "        epoch_loss_avg.update_state(loss)\n",
    "    print(f\"Epoch {epoch+1}, Loss: {epoch_loss_avg.result():.4f}\")\n",
    "\n",
    "# --- 5. Evaluate the Model ---\n",
    "print(\"\\n--- Evaluating TensorFlow Core API Model ---\")\n",
    "accuracy_metric = tf.keras.metrics.SparseCategoricalAccuracy()\n",
    "for images, labels in test_dataset_tf:\n",
    "    predictions = model_tf(images, training=False)\n",
    "    accuracy_metric.update_state(labels, predictions)\n",
    "\n",
    "print(f\"TensorFlow Core Test Accuracy: {accuracy_metric.result():.4f}\")\n"
   ]
  },
  {
   "cell_type": "markdown",
   "id": "82bb1ecc",
   "metadata": {},
   "source": [
    "## 🧠 Challenge: Compare the Keras, PyTorch and TensorFlow implementations in terms of accuracy and speed.\n",
    "\n",
    "Answer the questions posted before each impementation, and use them to produce a table that reveals the differences between the three implementations:\n",
    "\n",
    "| Framework | Speed | Accuracy | Pros | Cons | \n",
    "|----------------|-------------|-------------|-------------|-------------|\n",
    "| Keras  | 51.3s | 0.9721 | Keras has the power of TensorFlow but said to be more usable |\n",
    "| PyTorch  | 1 min 1.3s | 0.9698  | More Pythonic, supported by people at major conferences | Significantly slower by my base test\n",
    "| TensorFlow  | 43.8s | 0.9755  | More adjustable, easier to tune | More complicated, Tensorflow may be less supported - certification was ended and a new edition of Hands-On Machine Learning will use PyTorch\n",
    "\n",
    "Then use the table to prepare talking points on:\n",
    "- Which implementation you prefer to use for classifying digits in the MNINST data set, and why?\n",
    "\n",
    "TensorFlow has the best speed and accuracy per my basic testing, and can be more tweakable, but support may be reducing for this package, as above in the table.\n",
    "\n",
    "***"
   ]
  },
  {
   "cell_type": "markdown",
   "id": "0cf59597",
   "metadata": {},
   "source": [
    "\n",
    "### Workshop Summary\n",
    "\n",
    "Today we covered the essential theory and practice of Multi-Layered Perceptrons.\n",
    "\n",
    "* **Core Concepts**: We learned that MLPs are inspired by the brain and are built from layers of artificial neurons.\n",
    "* **Mechanism**: Each neuron performs a `weighted sum -> activation` calculation.\n",
    "* **Learning**: The network learns through a two-step process of **Feedforward** (to predict) and **Backpropagation** (to correct errors).\n",
    "* **Implementation**: We saw that while the code syntax for Keras, PyTorch, and TensorFlow is different, the underlying principles of defining, training, and evaluating a model are the same.\n",
    "\n",
    "You now have a foundational understanding of one of the most important models in machine learning. Great work!\n"
   ]
  }
 ],
 "metadata": {
  "kernelspec": {
   "display_name": ".venv",
   "language": "python",
   "name": "python3"
  },
  "language_info": {
   "codemirror_mode": {
    "name": "ipython",
    "version": 3
   },
   "file_extension": ".py",
   "mimetype": "text/x-python",
   "name": "python",
   "nbconvert_exporter": "python",
   "pygments_lexer": "ipython3",
   "version": "3.12.9"
  }
 },
 "nbformat": 4,
 "nbformat_minor": 5
}
